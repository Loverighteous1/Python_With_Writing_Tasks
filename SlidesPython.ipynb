{
 "cells": [
  {
   "cell_type": "code",
   "execution_count": 1,
   "metadata": {},
   "outputs": [],
   "source": [
    "from pptx import Presentation"
   ]
  },
  {
   "cell_type": "code",
   "execution_count": 3,
   "metadata": {},
   "outputs": [],
   "source": [
    "pr1 = Presentation()"
   ]
  },
  {
   "cell_type": "code",
   "execution_count": 63,
   "metadata": {},
   "outputs": [],
   "source": [
    "pr1.save(\"AnalysingRising_PPT_Tutorial.pptx\")"
   ]
  },
  {
   "cell_type": "code",
   "execution_count": 49,
   "metadata": {},
   "outputs": [],
   "source": [
    "#Refers to the layouts of each slide\n",
    "#0=Title slide, 1=Title and Content, 3=Section Header, etc\n",
    "slide1_register = pr1.slide_layouts[0]"
   ]
  },
  {
   "cell_type": "code",
   "execution_count": 50,
   "metadata": {},
   "outputs": [],
   "source": [
    "# Add initial slide to presentation\n",
    "slide1 = pr1.slides.add_slide(slide1_register)"
   ]
  },
  {
   "cell_type": "code",
   "execution_count": 51,
   "metadata": {},
   "outputs": [],
   "source": [
    "#Main top placeholder\n",
    "#title1 = slide1.shapes.title\n",
    "#Placeholder = item in Layout\n",
    "subtitle = slide1.placeholders[1]\n",
    "\n"
   ]
  },
  {
   "cell_type": "code",
   "execution_count": 52,
   "metadata": {},
   "outputs": [],
   "source": [
    "#Insert Text\n",
    "title1.text = \"PowerPoint with Python\""
   ]
  },
  {
   "cell_type": "code",
   "execution_count": 53,
   "metadata": {},
   "outputs": [],
   "source": [
    "subtitle.text = \"Everything with Python\""
   ]
  },
  {
   "cell_type": "code",
   "execution_count": 54,
   "metadata": {},
   "outputs": [],
   "source": [
    "#Adding more slides\n",
    "slide2_register = pr1.slide_layouts[1] # create slide\n",
    "slide2 = pr1.slides.add_slide(slide2_register) # add slide\n",
    "\n",
    "slide3_register = pr1.slide_layouts[6] # create slide\n",
    "slide3 = pr1.slides.add_slide(slide3_register)\n",
    "\n",
    "slide4_register = pr1.slide_layouts[7] # create slide\n",
    "slide4 = pr1.slides.add_slide(slide4_register)\n"
   ]
  },
  {
   "cell_type": "code",
   "execution_count": 55,
   "metadata": {},
   "outputs": [],
   "source": [
    "#Edit bullet point slide\n",
    "title2 = slide2.shapes.title\n",
    "title2.text = \"Editing bullet point slide\""
   ]
  },
  {
   "cell_type": "code",
   "execution_count": 56,
   "metadata": {},
   "outputs": [],
   "source": [
    "slide5_register = pr1.slide_layouts[2] # create slide\n",
    "slide5 = pr1.slides.add_slide(slide5_register)\n",
    "\n",
    "slide6_register = pr1.slide_layouts[3] # create slide\n",
    "slide6 = pr1.slides.add_slide(slide6_register)\n",
    "\n",
    "slide7_register = pr1.slide_layouts[4] # create slide\n",
    "slide7 = pr1.slides.add_slide(slide7_register)\n",
    "\n",
    "slide8_register = pr1.slide_layouts[5] # create slide\n",
    "slide8 = pr1.slides.add_slide(slide8_register)"
   ]
  },
  {
   "cell_type": "code",
   "execution_count": 66,
   "metadata": {},
   "outputs": [],
   "source": [
    "bullet_point_box = slide2.shapes\n",
    "\n",
    "bullet_points_lvl1 = bullet_point_box.placeholders[1]\n",
    "bullet_points_lvl1.text = \"Level1 bullet\""
   ]
  },
  {
   "cell_type": "code",
   "execution_count": 67,
   "metadata": {},
   "outputs": [],
   "source": [
    "bullet_points_lvl1 = bullet_points_lvl1.text_frame.add_paragraph()\n",
    "bullet_points_lvl1.text = 'to pythonnnnnn'\n",
    "bullet_points_lvl1.level = 1"
   ]
  },
  {
   "cell_type": "code",
   "execution_count": 70,
   "metadata": {},
   "outputs": [
    {
     "ename": "AttributeError",
     "evalue": "'_Paragraph' object has no attribute 'text_frame'",
     "output_type": "error",
     "traceback": [
      "\u001b[31m---------------------------------------------------------------------------\u001b[39m",
      "\u001b[31mAttributeError\u001b[39m                            Traceback (most recent call last)",
      "\u001b[36mCell\u001b[39m\u001b[36m \u001b[39m\u001b[32mIn[70]\u001b[39m\u001b[32m, line 1\u001b[39m\n\u001b[32m----> \u001b[39m\u001b[32m1\u001b[39m bullet_points_lvl4 = \u001b[43mbullet_points_lvl1\u001b[49m\u001b[43m.\u001b[49m\u001b[43mtext_frame\u001b[49m.add_paragraph()\n\u001b[32m      2\u001b[39m bullet_points_lvl4.text = \u001b[33m'\u001b[39m\u001b[33mto me bbbb\u001b[39m\u001b[33m'\u001b[39m\n\u001b[32m      3\u001b[39m bullet_points_lvl4.level = \u001b[32m3\u001b[39m\n",
      "\u001b[31mAttributeError\u001b[39m: '_Paragraph' object has no attribute 'text_frame'"
     ]
    }
   ],
   "source": [
    "bullet_points_lvl4 = bullet_points_lvl1.text_frame.add_paragraph()\n",
    "bullet_points_lvl4.text = 'to me bbbb'\n",
    "bullet_points_lvl4.level = 3"
   ]
  },
  {
   "cell_type": "code",
   "execution_count": 69,
   "metadata": {},
   "outputs": [
    {
     "ename": "AttributeError",
     "evalue": "'_Paragraph' object has no attribute 'text_frame'",
     "output_type": "error",
     "traceback": [
      "\u001b[31m---------------------------------------------------------------------------\u001b[39m",
      "\u001b[31mAttributeError\u001b[39m                            Traceback (most recent call last)",
      "\u001b[36mCell\u001b[39m\u001b[36m \u001b[39m\u001b[32mIn[69]\u001b[39m\u001b[32m, line 1\u001b[39m\n\u001b[32m----> \u001b[39m\u001b[32m1\u001b[39m bullet_points_lvl2 = \u001b[43mbullet_points_lvl1\u001b[49m\u001b[43m.\u001b[49m\u001b[43mtext_frame\u001b[49m.add_paragraph()\n\u001b[32m      2\u001b[39m bullet_points_lvl2.text = \u001b[33m'\u001b[39m\u001b[33mto 2\u001b[39m\u001b[33m'\u001b[39m\n\u001b[32m      3\u001b[39m bullet_points_lvl2.level = \u001b[32m2\u001b[39m\n",
      "\u001b[31mAttributeError\u001b[39m: '_Paragraph' object has no attribute 'text_frame'"
     ]
    }
   ],
   "source": [
    "bullet_points_lvl2 = bullet_points_lvl1.text_frame.add_paragraph()\n",
    "bullet_points_lvl2.text = 'to 2'\n",
    "bullet_points_lvl2.level = 2"
   ]
  },
  {
   "cell_type": "code",
   "execution_count": null,
   "metadata": {},
   "outputs": [],
   "source": []
  }
 ],
 "metadata": {
  "kernelspec": {
   "display_name": "slides",
   "language": "python",
   "name": "python3"
  },
  "language_info": {
   "codemirror_mode": {
    "name": "ipython",
    "version": 3
   },
   "file_extension": ".py",
   "mimetype": "text/x-python",
   "name": "python",
   "nbconvert_exporter": "python",
   "pygments_lexer": "ipython3",
   "version": "3.13.2"
  }
 },
 "nbformat": 4,
 "nbformat_minor": 2
}
